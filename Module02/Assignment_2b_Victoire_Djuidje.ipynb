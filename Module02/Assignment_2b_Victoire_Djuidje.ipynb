{
 "cells": [
  {
   "cell_type": "code",
   "execution_count": 27,
   "id": "3e3ff604",
   "metadata": {},
   "outputs": [],
   "source": [
    "import numpy as np\n",
    "import matplotlib.pyplot as plt\n",
    "import scipy.special as sit"
   ]
  },
  {
   "cell_type": "markdown",
   "id": "f73127b5",
   "metadata": {},
   "source": [
    "# Problem 1"
   ]
  },
  {
   "cell_type": "code",
   "execution_count": 10,
   "id": "2ced8e2b",
   "metadata": {},
   "outputs": [
    {
     "name": "stdout",
     "output_type": "stream",
     "text": [
      "[0. 1. 2. 3. 4. 5. 6. 7. 8.] [80.37  80.375 80.387 80.336 80.415 80.27  80.44  80.483 80.433] [0.018 0.023 0.019 0.067 0.052 0.055 0.051 0.084 0.079]\n"
     ]
    }
   ],
   "source": [
    "t,m,u = np.loadtxt('Wmass_data.txt' , unpack = True)\n",
    "\n",
    "print(t,m,u)"
   ]
  },
  {
   "cell_type": "code",
   "execution_count": 31,
   "id": "4f60e7db",
   "metadata": {},
   "outputs": [
    {
     "name": "stdout",
     "output_type": "stream",
     "text": [
      "Uncertainty Error 1.494035761667992 Weighted Mean 80.39910491071429 chisq 8.707036304862834 Reduce chisq 1.243862329266119 P Value 0.2743795204721061\n"
     ]
    },
    {
     "data": {
      "image/png": "[encoded data removed]",
      "text/plain": [
       "<Figure size 432x288 with 1 Axes>"
      ]
     },
     "metadata": {
      "needs_background": "light"
     },
     "output_type": "display_data"
    }
   ],
   "source": [
    "PDG = 80.379\n",
    "lista=([]) \n",
    "for i in range (len(t)):\n",
    "    lista.insert(i,PDG)\n",
    "\n",
    "dof= 7\n",
    "Eu = (1/np.sum(u))**(1/2)\n",
    "Wm = np.sum(m*u)/np.sum(u)\n",
    "\n",
    "chi = np.sum((m-PDG)**2/u**2)\n",
    "Rchi = chi/dof\n",
    "pvalue = sit.gammaincc(dof/2, chi/2)\n",
    "\n",
    "print(\"Uncertainty Error\", Eu, \"Weighted Mean\", Wm, \"chisq\", chi, \"Reduce chisq\", Rchi, \"P Value\", pvalue)\n",
    "\n",
    "fig= plt.figure()\n",
    "\n",
    "ax=fig.add_axes([0.8,0.8,0.8,0.8])\n",
    "ax.scatter(t,m,marker='o')\n",
    "ax.plot(t,lista,label='Expected value from PDG')\n",
    "ax.legend()\n",
    "ax.set_xlabel('Trial')\n",
    "ax.set_ylabel('Mass(GeV/c^2)')\n",
    "ax.errorbar(t,m,u, fmt='.', label = 'Error')\n",
    "ax.legend();"
   ]
  },
  {
   "cell_type": "markdown",
   "id": "0c96e878",
   "metadata": {},
   "source": [
    "# Problem 2\n"
   ]
  },
  {
   "cell_type": "code",
   "execution_count": 17,
   "id": "3f14f8b3",
   "metadata": {},
   "outputs": [
    {
     "name": "stdout",
     "output_type": "stream",
     "text": [
      "[ 0.  1.  2.  3.  4.  5.  6.  7.  8.  9. 10. 11. 12. 13. 14.] [0.8335  0.895   0.916   0.8775  0.875   0.879   0.912   0.871   0.84148\n",
      " 0.8768  0.844   0.897   0.875   0.895   0.84087] [0.0095  0.0198  0.024   0.0051  0.01    0.00781 0.0114  0.00949 0.00067\n",
      " 0.0069  0.006   0.018   0.0068  0.0164  0.00039]\n"
     ]
    }
   ],
   "source": [
    "tp,mp,up = np.loadtxt('proton_radius_data.txt', unpack = True)\n",
    "\n",
    "print(tp,mp,up)"
   ]
  },
  {
   "cell_type": "code",
   "execution_count": 35,
   "id": "0e6b81cf",
   "metadata": {},
   "outputs": [
    {
     "name": "stdout",
     "output_type": "stream",
     "text": [
      "Uncertainty Error 2.5627549867848893 Weighted Mean 0.8876640673847367 chisq 10285.48511513286 Reduce chisq 791.1911627025277 P value 0.0\n"
     ]
    },
    {
     "data": {
      "image/png": "[encoded data removed]",
      "text/plain": [
       "<Figure size 432x288 with 1 Axes>"
      ]
     },
     "metadata": {
      "needs_background": "light"
     },
     "output_type": "display_data"
    }
   ],
   "source": [
    "PDGp = 0.8751\n",
    "listp=([]) \n",
    "for i in range (len(tp)):\n",
    "    listp.insert(i,PDGp)\n",
    "\n",
    "dofp = 13\n",
    "Eup = (1/np.sum(up))**(1/2)\n",
    "Wmp = np.sum(mp*up)/np.sum(up)\n",
    "\n",
    "chip = np.sum((mp-PDGp)**2/up**2)\n",
    "Rchip = chip/dofp\n",
    "pvaluep = sit.gammaincc(dofp/2, chip/2)\n",
    "\n",
    "print(\"Uncertainty Error\", Eup, \"Weighted Mean\", Wmp, \"chisq\", chip, \"Reduce chisq\", Rchip, \"P value\",pvaluep)\n",
    "\n",
    "fig2= plt.figure()\n",
    "\n",
    "ax=fig2.add_axes([0.8,0.8,0.8,0.8])\n",
    "ax.scatter(tp,mp,marker='o')\n",
    "ax.plot(tp,listp,label='Expected value from PDG')\n",
    "ax.legend()\n",
    "ax.set_xlabel('Trial')\n",
    "ax.set_ylabel('Mass(GeV/c^2)')\n",
    "ax.errorbar(tp,mp,up, fmt='.', label = 'Error')\n",
    "ax.legend();"
   ]
  },
  {
   "cell_type": "code",
   "execution_count": null,
   "id": "ee0cb624",
   "metadata": {},
   "outputs": [],
   "source": []
  }
 ],
 "metadata": {
  "kernelspec": {
   "display_name": "Python 3",
   "language": "python",
   "name": "python3"
  },
  "language_info": {
   "codemirror_mode": {
    "name": "ipython",
    "version": 3
   },
   "file_extension": ".py",
   "mimetype": "text/x-python",
   "name": "python",
   "nbconvert_exporter": "python",
   "pygments_lexer": "ipython3",
   "version": "3.8.8"
  }
 },
 "nbformat": 4,
 "nbformat_minor": 5
}
