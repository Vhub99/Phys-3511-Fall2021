{
 "cells": [
  {
   "cell_type": "code",
   "execution_count": 4,
   "id": "9c93b8f1",
   "metadata": {},
   "outputs": [],
   "source": [
    "import numpy as np\n",
    "import math\n",
    "import scipy.integrate as sit\n",
    "import matplotlib.pyplot as plt"
   ]
  },
  {
   "cell_type": "code",
   "execution_count": 16,
   "id": "37b38f60",
   "metadata": {},
   "outputs": [
    {
     "name": "stdout",
     "output_type": "stream",
     "text": [
      "6\n",
      "<class 'int'>\n",
      "Exact Solution 0.3535534\n",
      "<function <lambda> at 0x0000020176B9A790>\n",
      "Testing function: 0.17888543819998318\n",
      "Midpoint: 0.45856875019633947\n",
      "Trapezoid: 0.37019884484634374\n",
      "Simpsons: 0.5654258608403168\n",
      "scipy trapezoid 0.3526702692186624\n",
      "scipy simpsons 0.3532157038993122\n",
      "Error Midpoint & Percent 0.2970282571072416 29.702825710724163\n",
      "Error trapezoid & Percent 0.04708042645423216 4.708042645423216\n",
      "Error Simpsons & Percent 0.5992657992832674 59.92657992832674\n",
      "Error Scipy Trapezoid & Percent -0.0024978709901746538 -0.24978709901746537\n",
      "Error Scipy Simpsons & Percent -0.0009551487856936049 -0.09551487856936049\n",
      "Integral Value (1.7724538509055159, 1.4202636781830878e-08)\n"
     ]
    },
    {
     "data": {
      "image/png": "[encoded data removed]",
      "text/plain": [
       "<Figure size 432x288 with 1 Axes>"
      ]
     },
     "metadata": {
      "needs_background": "light"
     },
     "output_type": "display_data"
    }
   ],
   "source": [
    "func = lambda x: 2/(4+x**2)**(3/2)\n",
    "a = 0\n",
    "b = 2\n",
    "n = int(input())\n",
    "print(type(n))\n",
    "\n",
    "Ex_sol = 0.3535534\n",
    "print('Exact Solution',Ex_sol)\n",
    "\n",
    "print(func)\n",
    "\n",
    "def func(x):\n",
    "    return 2/(4+x**2)**(3/2)\n",
    "print('Testing function:',func(1))\n",
    "\n",
    "def mid_point(func,a,b,n):\n",
    "    dx = (b - a)/float(n) \n",
    "    area = 0\n",
    "    for i in range(0,n):\n",
    "        area += dx*func(a + i*(dx/2.0))\n",
    "    \n",
    "    return area\n",
    "\n",
    "print('Midpoint:',mid_point(func,a,b,n))\n",
    "\n",
    "def trapezoid(func,a,b,n):\n",
    "    dx = (b - a)/float(n) \n",
    "    area = 0\n",
    "    for i in range(1,n):\n",
    "        area += dx/2.0*(2.0*func(a + i*dx) + func(a+b))\n",
    "    \n",
    "    return area\n",
    "\n",
    "print('Trapezoid:',trapezoid(func,a,b,n))\n",
    "    \n",
    "        \n",
    "def simpsons(func,a,b,n):\n",
    "    dx = (b - a)/float(n) \n",
    "    area = 0\n",
    "    for i in range(0,n):\n",
    "        area += dx/3*(4*func(a + i*dx) + func(a+b))\n",
    "    return area\n",
    "\n",
    "print('Simpsons:',simpsons(func,a,b,n))\n",
    "    \n",
    "        \n",
    "#trapz_method\n",
    "x = np.linspace(a,b,n)\n",
    "y = 2/(4+x**2)**(3/2)\n",
    "a = 0\n",
    "b = 2\n",
    "n = 6\n",
    "dx = (b-a)/n\n",
    "\n",
    "T = np.trapz(y,x,dx)\n",
    "print('scipy trapezoid',T)\n",
    "\n",
    "S = sit.simps(y,x,dx)\n",
    "print('scipy simpsons',S)\n",
    "\n",
    "\n",
    "Em = (mid_point(func,a,b,n)-Ex_sol)/Ex_sol\n",
    "P_Em = Em*100\n",
    "print('Error Midpoint & Percent',Em,P_Em)\n",
    "\n",
    "Et = (trapezoid(func,a,b,n)-Ex_sol)/Ex_sol\n",
    "P_Et = Et*100\n",
    "print('Error trapezoid & Percent',Et,P_Et)\n",
    "\n",
    "Es = (simpsons(func,a,b,n)-Ex_sol)/Ex_sol\n",
    "P_Es = Es*100\n",
    "print('Error Simpsons & Percent',Es,P_Es)\n",
    "\n",
    "EsT = (T-Ex_sol)/Ex_sol\n",
    "P_EsT = EsT*100\n",
    "print('Error Scipy Trapezoid & Percent',EsT,P_EsT)\n",
    "\n",
    "EsS = (S-Ex_sol)/Ex_sol\n",
    "P_EsS = EsS*100\n",
    "print('Error Scipy Simpsons & Percent',EsS,P_EsS)\n",
    "\n",
    "\n",
    "X = (Ex_sol, float(mid_point(func,a,b,n)), float(trapezoid(func,a,b,n)), float(simpsons(func,a,b,n)), T, S)\n",
    "Y = (0,Em,Et,Es,EsT,EsS)\n",
    "plt.scatter(X,Y)\n",
    "plt.show\n",
    "\n",
    "\n",
    "func2 = lambda x: np.exp(-x**2)\n",
    "I = sit.quad(func2, -np.inf, np.inf)\n",
    "print('Integral Value',I) #The_Result_Squared_is_Pi"
   ]
  },
  {
   "cell_type": "code",
   "execution_count": null,
   "id": "d1f0088e",
   "metadata": {},
   "outputs": [],
   "source": []
  }
 ],
 "metadata": {
  "kernelspec": {
   "display_name": "Python 3",
   "language": "python",
   "name": "python3"
  },
  "language_info": {
   "codemirror_mode": {
    "name": "ipython",
    "version": 3
   },
   "file_extension": ".py",
   "mimetype": "text/x-python",
   "name": "python",
   "nbconvert_exporter": "python",
   "pygments_lexer": "ipython3",
   "version": "3.8.8"
  }
 },
 "nbformat": 4,
 "nbformat_minor": 5
}
