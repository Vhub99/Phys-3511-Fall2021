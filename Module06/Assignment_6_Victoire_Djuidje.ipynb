{
 "cells": [
  {
   "cell_type": "code",
   "execution_count": 12,
   "id": "0fbcbae0",
   "metadata": {},
   "outputs": [],
   "source": [
    "import pandas as pd\n",
    "import numpy as np\n",
    "import matplotlib.pyplot as plt\n",
    "from scipy import optimize\n",
    "from scipy.optimize import curve_fit"
   ]
  },
  {
   "cell_type": "code",
   "execution_count": 13,
   "id": "eea936a6",
   "metadata": {},
   "outputs": [
    {
     "name": "stdout",
     "output_type": "stream",
     "text": [
      "<class 'pandas.core.frame.DataFrame'>\n",
      "RangeIndex: 18885 entries, 0 to 18884\n",
      "Data columns (total 22 columns):\n",
      " #   Column        Non-Null Count  Dtype  \n",
      "---  ------        --------------  -----  \n",
      " 0   Run           18885 non-null  int64  \n",
      " 1   Event         18885 non-null  int64  \n",
      " 2   pt1           18885 non-null  float64\n",
      " 3   eta1          18885 non-null  float64\n",
      " 4   phi1          18885 non-null  float64\n",
      " 5   Q1            18885 non-null  int64  \n",
      " 6   type1         18885 non-null  object \n",
      " 7   sigmaEtaEta1  18885 non-null  float64\n",
      " 8   HoverE1       18885 non-null  float64\n",
      " 9   isoTrack1     18885 non-null  float64\n",
      " 10  isoEcal1      18885 non-null  float64\n",
      " 11  isoHcal1      18885 non-null  float64\n",
      " 12  pt2           18885 non-null  float64\n",
      " 13  eta2          18885 non-null  float64\n",
      " 14  phi2          18885 non-null  float64\n",
      " 15  Q2            18885 non-null  int64  \n",
      " 16  type2         18885 non-null  object \n",
      " 17  sigmaEtaEta2  18885 non-null  float64\n",
      " 18  HoverE2       18885 non-null  float64\n",
      " 19  isoTrack2     18885 non-null  float64\n",
      " 20  isoEcal2      18885 non-null  float64\n",
      " 21  isoHcal2      18885 non-null  float64\n",
      "dtypes: float64(16), int64(4), object(2)\n",
      "memory usage: 3.2+ MB\n"
     ]
    }
   ],
   "source": [
    "df = pd.read_csv('zee_Run2011A.csv')\n",
    "df.info()"
   ]
  },
  {
   "cell_type": "code",
   "execution_count": 18,
   "id": "da9add98",
   "metadata": {},
   "outputs": [
    {
     "data": {
      "image/png": "[encoded data removed]",
      "text/plain": [
       "<Figure size 432x288 with 1 Axes>"
      ]
     },
     "metadata": {
      "needs_background": "light"
     },
     "output_type": "display_data"
    }
   ],
   "source": [
    "minv = (2*df.pt1*df.pt2*(np.cosh(df.eta1-df.eta2)-np.cos(df.phi1-df.phi2)))**(1/2)\n",
    "df['invariant mass'] = minv\n",
    "\n",
    "fig = plt.figure()\n",
    "ax = fig.add_axes([0.1,0.1,0.8,0.8])\n",
    "ax.hist(minv, bins=100);\n"
   ]
  },
  {
   "cell_type": "code",
   "execution_count": 49,
   "id": "e4adaa76",
   "metadata": {},
   "outputs": [],
   "source": [
    "def RBW(E,G,M,a,b,c):\n",
    "    g = np.sqrt(M**2 * (M**2 + G**2))\n",
    "    k = (2 * np.sqrt(2) * M * G * g)/(np.pi * np.sqrt(M**2 + g))\n",
    "    f = lambda E: k/(((E**2)-(M**2))**2 + (M**2)*(G**2))\n",
    "    return a*E + b + c*f(E)"
   ]
  },
  {
   "cell_type": "code",
   "execution_count": 55,
   "id": "7428b9af",
   "metadata": {},
   "outputs": [
    {
     "name": "stdout",
     "output_type": "stream",
     "text": [
      "[ 36.  19.  17.  34.  28.  32.  29.  28.  22.  25.  21.  37.  26.  27.\n",
      "  18.  24.  32.  30.  36.  28.  35.  30.  31.  36.  26.  27.  33.  36.\n",
      "  26.  33.  34.  37.  34.  37.  31.  34.  28.  30.  35.  24.  32.  25.\n",
      "  45.  35.  39.  30.  36.  38.  39.  35.  32.  35.  30.  45.  39.  39.\n",
      "  41.  27.  43.  38.  36.  52.  37.  37.  39.  31.  53.  34.  44.  44.\n",
      "  46.  46.  39.  37.  49.  44.  56.  25.  51.  52.  56.  56.  43.  45.\n",
      "  67.  55.  37.  50.  66.  60.  61.  74.  50.  52.  50.  71.  50.  70.\n",
      "  72.  80.  64.  75.  97.  72.  76.  83.  96.  80.  89.  81.  96. 117.\n",
      " 131. 106.  96. 115. 103. 133. 122. 120. 142. 121. 147. 123. 148. 165.\n",
      " 174. 171. 158. 158. 167. 201. 184. 181. 169. 190. 181. 180. 236. 174.\n",
      " 196. 196. 192. 232. 199. 228. 182. 180. 167. 189. 175. 146. 160. 152.\n",
      " 139. 133. 133. 121. 111. 126.  99.  96.  97.  92.  81.  65.  78.  81.\n",
      "  78.  86.  54.  56.  48.  68.  59.  59.  43.  40.  39.  51.  36.  58.\n",
      "  46.  38.  42.  35.  31.  31.  46.  32.  24.  28.  40.  43.  24.  35.\n",
      "  26.  35.  41.  35.] [ 70.    70.15  70.3   70.45  70.6   70.75  70.9   71.05  71.2   71.35\n",
      "  71.5   71.65  71.8   71.95  72.1   72.25  72.4   72.55  72.7   72.85\n",
      "  73.    73.15  73.3   73.45  73.6   73.75  73.9   74.05  74.2   74.35\n",
      "  74.5   74.65  74.8   74.95  75.1   75.25  75.4   75.55  75.7   75.85\n",
      "  76.    76.15  76.3   76.45  76.6   76.75  76.9   77.05  77.2   77.35\n",
      "  77.5   77.65  77.8   77.95  78.1   78.25  78.4   78.55  78.7   78.85\n",
      "  79.    79.15  79.3   79.45  79.6   79.75  79.9   80.05  80.2   80.35\n",
      "  80.5   80.65  80.8   80.95  81.1   81.25  81.4   81.55  81.7   81.85\n",
      "  82.    82.15  82.3   82.45  82.6   82.75  82.9   83.05  83.2   83.35\n",
      "  83.5   83.65  83.8   83.95  84.1   84.25  84.4   84.55  84.7   84.85\n",
      "  85.    85.15  85.3   85.45  85.6   85.75  85.9   86.05  86.2   86.35\n",
      "  86.5   86.65  86.8   86.95  87.1   87.25  87.4   87.55  87.7   87.85\n",
      "  88.    88.15  88.3   88.45  88.6   88.75  88.9   89.05  89.2   89.35\n",
      "  89.5   89.65  89.8   89.95  90.1   90.25  90.4   90.55  90.7   90.85\n",
      "  91.    91.15  91.3   91.45  91.6   91.75  91.9   92.05  92.2   92.35\n",
      "  92.5   92.65  92.8   92.95  93.1   93.25  93.4   93.55  93.7   93.85\n",
      "  94.    94.15  94.3   94.45  94.6   94.75  94.9   95.05  95.2   95.35\n",
      "  95.5   95.65  95.8   95.95  96.1   96.25  96.4   96.55  96.7   96.85\n",
      "  97.    97.15  97.3   97.45  97.6   97.75  97.9   98.05  98.2   98.35\n",
      "  98.5   98.65  98.8   98.95  99.1   99.25  99.4   99.55  99.7   99.85\n",
      " 100.  ]\n",
      "my best invariant mass is approximately be 90.72164259956851 which is not within the error margin of the wiki value of 91.1876 +- 0.0021\n"
     ]
    },
    {
     "data": {
      "image/png": "[encoded data removed]",
      "text/plain": [
       "<Figure size 432x288 with 1 Axes>"
      ]
     },
     "metadata": {
      "needs_background": "light"
     },
     "output_type": "display_data"
    }
   ],
   "source": [
    "L = 70\n",
    "U = 100\n",
    "bins =200\n",
    "\n",
    "fig = plt.figure()\n",
    "H = plt.hist(minv, bins=bins, range=(L,U))\n",
    "\n",
    "print(H[0][:], H[1][:])\n",
    "\n",
    "y= H[0]\n",
    "x= 0.5*(H[1][0:-1] + H[1][1:])\n",
    "y_err= np.sqrt(y)\n",
    "\n",
    "for i in range(len(y)):\n",
    "    if y_err[i]==0:\n",
    "        y_err[i]= 1.0\n",
    "    else:\n",
    "        y_err[i]= y_err[i]\n",
    "        \n",
    "I = [2.5, 91, -2, 200, 13000]\n",
    "        \n",
    "be, co = curve_fit(RBW, x, y, p0=I, sigma= y_err)\n",
    "err = np.sqrt(np.diag(co))\n",
    "\n",
    "plt.plot(x, RBW(x, *be), 'r-', label = 'gamma {}, M= {}'.format(be[0], be[1]))\n",
    "plt.xlabel(\"Invariant Mass\")\n",
    "plt.ylabel(\"Events\")\n",
    "plt.legend();\n",
    "\n",
    "be[1]\n",
    "print('my best invariant mass is approximately be',be[1], 'which is not within the error margin of the wiki value of 91.1876 +- 0.0021')"
   ]
  },
  {
   "cell_type": "code",
   "execution_count": 64,
   "id": "948e7b4a",
   "metadata": {},
   "outputs": [
    {
     "data": {
      "text/plain": [
       "Text(0.5, 1.0, 'Distributions of Eta1 and Eta2')"
      ]
     },
     "execution_count": 64,
     "metadata": {},
     "output_type": "execute_result"
    },
    {
     "data": {
      "image/png": "[encoded data removed]",
      "text/plain": [
       "<Figure size 432x288 with 1 Axes>"
      ]
     },
     "metadata": {
      "needs_background": "light"
     },
     "output_type": "display_data"
    }
   ],
   "source": [
    "fig2= plt.figure()\n",
    "ax2= fig2.add_axes([0.1, 0.1, 0.8, 0.8])\n",
    "ax2.hist(df.eta1, alpha= 0.40, bins= 200, label =\" Eta1\")\n",
    "ax2.hist(df.eta2, alpha= 0.5,  bins= 200, label = \"Eta2\")\n",
    "ax2.legend()\n",
    "ax2.set_title(\"Distributions of Eta1 and Eta2\")"
   ]
  },
  {
   "cell_type": "code",
   "execution_count": 65,
   "id": "6609ea57",
   "metadata": {},
   "outputs": [
    {
     "name": "stdout",
     "output_type": "stream",
     "text": [
      "yes our assumption makes senses because each detector only covers a specific range. EB covers ranges -1.5 - 1.5, EE covers -2.5 - -1.5 and 1.5 - 2.5\n"
     ]
    },
    {
     "data": {
      "image/png": "[encoded data removed]",
      "text/plain": [
       "<Figure size 432x288 with 2 Axes>"
      ]
     },
     "metadata": {
      "needs_background": "light"
     },
     "output_type": "display_data"
    }
   ],
   "source": [
    "EB = df[(df['type1']=='EB') & (df['type2']=='EB')] #barrel\n",
    "EE = df[(df['type1']=='EE') & (df['type2']=='EE')] #endcap\n",
    "\n",
    "fig3, ax3, = plt.subplots(2,1)\n",
    "ax3[0].hist(EB.eta1, bins= 200, label= \"Barrel\")\n",
    "ax3[0].hist(EE.eta1, bins= 200, label= \"Endcap\")\n",
    "ax3[0].set_title(\"Eta1\")\n",
    "ax3[0].legend()\n",
    "\n",
    "ax3[1].hist(EB.eta2, bins= 200, label= \"Barrel\")\n",
    "ax3[1].hist(EE.eta2, bins= 200, label= \"Endcap\")\n",
    "ax3[1].set_title(\"Eta2\")\n",
    "ax3[1].legend()\n",
    "\n",
    "plt.tight_layout();\n",
    "\n",
    "print('yes our assumption makes senses because each detector only covers a specific range. EB covers ranges -1.5 - 1.5, EE covers -2.5 - -1.5 and 1.5 - 2.5')"
   ]
  },
  {
   "cell_type": "code",
   "execution_count": 74,
   "id": "9c7b65ad",
   "metadata": {},
   "outputs": [
    {
     "name": "stdout",
     "output_type": "stream",
     "text": [
      "The barrel has a smaller STD therefor gives a better resolution, this can also be seen in the graph with the barrel having a higher peak\n"
     ]
    },
    {
     "data": {
      "image/png": "[encoded data removed]",
      "text/plain": [
       "<Figure size 432x288 with 1 Axes>"
      ]
     },
     "metadata": {
      "needs_background": "light"
     },
     "output_type": "display_data"
    }
   ],
   "source": [
    "EBminv= (2*EB.pt1*EB.pt2*(np.cosh(EB.eta1-EB.eta2)-np.cos(EB.phi1-EB.phi2)))**(1/2)\n",
    "EEminv = (2*EE.pt1*EE.pt2*(np.cosh(EE.eta1-EE.eta2)-np.cos(EE.phi1-EE.phi2)))**(1/2)\n",
    "\n",
    "fig4= plt.figure()\n",
    "ax4= fig4.add_axes([0.1,0.1,0.8,0.8])\n",
    "ax4.hist(EBminv, bins= 200, label= 'Barrel')\n",
    "ax4.hist(EEminv, bins=200, label= 'Endcap')\n",
    "ax4.legend();\n",
    "\n",
    "EBminv.std(),EEminv.std() \n",
    "print('The barrel has a smaller STD therefor gives a better resolution, this can also be seen in the graph with the barrel having a higher peak')"
   ]
  },
  {
   "cell_type": "code",
   "execution_count": 84,
   "id": "c3e1ec33",
   "metadata": {},
   "outputs": [
    {
     "name": "stdout",
     "output_type": "stream",
     "text": [
      "eta1 and eta2 have a correlation of 0.6654 which is the strongest non 1 correlation\n"
     ]
    },
    {
     "data": {
      "text/plain": [
       "(       pt1      eta1      phi1      pt2     eta2     phi2\n",
       " 0  37.5667  2.289180  2.052600  45.4315  1.47064 -1.16305\n",
       " 1  36.2901 -0.837253 -1.585920  60.5754 -0.48957  1.04960\n",
       " 2  25.9705 -0.697420  1.635990  45.2954 -2.04009  3.11875\n",
       " 3  41.0075  1.461920 -0.532464  45.9013  1.15606  2.47858\n",
       " 4  39.8985 -0.592666 -2.394720  34.8931 -2.24444  0.61061,\n",
       "            pt1      eta1      phi1       pt2      eta2      phi2\n",
       " pt1   1.000000 -0.005495 -0.000376 -0.068503 -0.009661 -0.000184\n",
       " eta1 -0.005495  1.000000  0.015935  0.009975  0.665429 -0.022004\n",
       " phi1 -0.000376  0.015935  1.000000  0.000893  0.007323 -0.460515\n",
       " pt2  -0.068503  0.009975  0.000893  1.000000  0.010027 -0.000399\n",
       " eta2 -0.009661  0.665429  0.007323  0.010027  1.000000 -0.023955\n",
       " phi2 -0.000184 -0.022004 -0.460515 -0.000399 -0.023955  1.000000)"
      ]
     },
     "execution_count": 84,
     "metadata": {},
     "output_type": "execute_result"
    }
   ],
   "source": [
    "df = df[['pt1', 'eta1', 'phi1', 'pt2', 'eta2', 'phi2']]\n",
    "\n",
    "print('eta1 and eta2 have a correlation of 0.6654 which is the strongest non 1 correlation')\n",
    "df.head(), df.corr()\n",
    "\n",
    "#M not in index error, so i removed M\n"
   ]
  }
 ],
 "metadata": {
  "kernelspec": {
   "display_name": "Python 3",
   "language": "python",
   "name": "python3"
  },
  "language_info": {
   "codemirror_mode": {
    "name": "ipython",
    "version": 3
   },
   "file_extension": ".py",
   "mimetype": "text/x-python",
   "name": "python",
   "nbconvert_exporter": "python",
   "pygments_lexer": "ipython3",
   "version": "3.8.8"
  }
 },
 "nbformat": 4,
 "nbformat_minor": 5
}
