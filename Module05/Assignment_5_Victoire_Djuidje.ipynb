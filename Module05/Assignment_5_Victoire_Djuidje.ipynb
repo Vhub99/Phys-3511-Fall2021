{
 "cells": [
  {
   "cell_type": "code",
   "execution_count": 2,
   "id": "af2a3433",
   "metadata": {},
   "outputs": [],
   "source": [
    "import pandas as pd\n",
    "import numpy as np\n",
    "import matplotlib.pyplot as plt\n",
    "\n"
   ]
  },
  {
   "cell_type": "code",
   "execution_count": 4,
   "id": "51b20a38",
   "metadata": {},
   "outputs": [],
   "source": [
    "df = pd.read_csv('nobel.csv')"
   ]
  },
  {
   "cell_type": "code",
   "execution_count": 8,
   "id": "4bbcea1e",
   "metadata": {},
   "outputs": [
    {
     "name": "stdout",
     "output_type": "stream",
     "text": [
      "<class 'pandas.core.frame.DataFrame'>\n",
      "RangeIndex: 911 entries, 0 to 910\n",
      "Data columns (total 18 columns):\n",
      " #   Column                Non-Null Count  Dtype \n",
      "---  ------                --------------  ----- \n",
      " 0   year                  911 non-null    int64 \n",
      " 1   category              911 non-null    object\n",
      " 2   prize                 911 non-null    object\n",
      " 3   motivation            823 non-null    object\n",
      " 4   prize_share           911 non-null    object\n",
      " 5   laureate_id           911 non-null    int64 \n",
      " 6   laureate_type         911 non-null    object\n",
      " 7   full_name             911 non-null    object\n",
      " 8   birth_date            883 non-null    object\n",
      " 9   birth_city            883 non-null    object\n",
      " 10  birth_country         885 non-null    object\n",
      " 11  sex                   885 non-null    object\n",
      " 12  organization_name     665 non-null    object\n",
      " 13  organization_city     667 non-null    object\n",
      " 14  organization_country  667 non-null    object\n",
      " 15  death_date            593 non-null    object\n",
      " 16  death_city            576 non-null    object\n",
      " 17  death_country         582 non-null    object\n",
      "dtypes: int64(2), object(16)\n",
      "memory usage: 128.2+ KB\n"
     ]
    },
    {
     "data": {
      "text/plain": [
       "1912"
      ]
     },
     "execution_count": 8,
     "metadata": {},
     "output_type": "execute_result"
    }
   ],
   "source": [
    "df.info()\n",
    "df.head(5)\n",
    "df.isnull().sum(axis = 1)\n",
    "df.isnull().sum()\n",
    "df.isnull().sum().sum()"
   ]
  },
  {
   "cell_type": "code",
   "execution_count": 13,
   "id": "d4e26ac9",
   "metadata": {},
   "outputs": [
    {
     "data": {
      "text/plain": [
       "array([[<AxesSubplot:title={'center':'year'}>]], dtype=object)"
      ]
     },
     "execution_count": 13,
     "metadata": {},
     "output_type": "execute_result"
    },
    {
     "data": {
      "image/png": "[encoded data removed]",
      "text/plain": [
       "<Figure size 432x288 with 1 Axes>"
      ]
     },
     "metadata": {
      "needs_background": "light"
     },
     "output_type": "display_data"
    }
   ],
   "source": [
    "\n",
    "df.hist('year',bins=20)\n",
    "#least amount of prizes were awarded around 1910s"
   ]
  },
  {
   "cell_type": "code",
   "execution_count": 25,
   "id": "e089e72a",
   "metadata": {},
   "outputs": [
    {
     "data": {
      "text/plain": [
       "category\n",
       "Chemistry     175\n",
       "Economics      78\n",
       "Literature    113\n",
       "Medicine      211\n",
       "Peace         130\n",
       "Physics       204\n",
       "Name: prize, dtype: int64"
      ]
     },
     "execution_count": 25,
     "metadata": {},
     "output_type": "execute_result"
    }
   ],
   "source": [
    "df_C = df.groupby('category').count().prize\n",
    "df_C"
   ]
  },
  {
   "cell_type": "code",
   "execution_count": 26,
   "id": "07dc667f",
   "metadata": {},
   "outputs": [
    {
     "data": {
      "text/plain": [
       "211"
      ]
     },
     "execution_count": 26,
     "metadata": {},
     "output_type": "execute_result"
    }
   ],
   "source": [
    "df_C.max()"
   ]
  },
  {
   "cell_type": "code",
   "execution_count": 30,
   "id": "fcd9754d",
   "metadata": {},
   "outputs": [
    {
     "data": {
      "text/plain": [
       "prize_share\n",
       "1/1    37.760703\n",
       "1/2    33.589462\n",
       "1/3    22.063666\n",
       "1/4     6.586169\n",
       "Name: prize, dtype: float64"
      ]
     },
     "execution_count": 30,
     "metadata": {},
     "output_type": "execute_result"
    }
   ],
   "source": [
    "df_PS = df.groupby('prize_share').count()\n",
    "(df_PS.prize / df_PS.prize.sum())*100\n"
   ]
  },
  {
   "cell_type": "code",
   "execution_count": 36,
   "id": "29c282de",
   "metadata": {},
   "outputs": [
    {
     "data": {
      "text/plain": [
       "(885, 911)"
      ]
     },
     "execution_count": 36,
     "metadata": {},
     "output_type": "execute_result"
    }
   ],
   "source": [
    "df_S = df.groupby('sex').count()\n",
    "df_S.sum().prize,df.count().prize\n",
    "#the values don't match"
   ]
  },
  {
   "cell_type": "code",
   "execution_count": 44,
   "id": "b20889d5",
   "metadata": {},
   "outputs": [
    {
     "data": {
      "image/png": "[encoded data removed]",
      "text/plain": [
       "<Figure size 432x288 with 1 Axes>"
      ]
     },
     "metadata": {
      "needs_background": "light"
     },
     "output_type": "display_data"
    }
   ],
   "source": [
    "fig = plt.figure()\n",
    "ax = fig.add_axes([0.1,0.1,0.8,0.8])\n",
    "ax.hist(df[df.sex == 'Male'].year, bins = 50, label = 'Male')\n",
    "ax.hist(df[df.sex == 'Female'].year, bins = 50, label = 'Female')\n",
    "ax.legend();"
   ]
  },
  {
   "cell_type": "code",
   "execution_count": 68,
   "id": "9c737a86",
   "metadata": {},
   "outputs": [
    {
     "data": {
      "text/plain": [
       "259"
      ]
     },
     "execution_count": 68,
     "metadata": {},
     "output_type": "execute_result"
    }
   ],
   "source": [
    "df_Co = df.groupby('birth_country').count().year\n",
    "df_Co['United States of America']"
   ]
  },
  {
   "cell_type": "code",
   "execution_count": 82,
   "id": "3eb5ef8e",
   "metadata": {},
   "outputs": [
    {
     "name": "stdout",
     "output_type": "stream",
     "text": [
      "Youngest= 17.0 Oldest= 90.0\n"
     ]
    }
   ],
   "source": [
    "A = df.year - pd.DatetimeIndex(df.birth_date).year\n",
    "Y = min(A)\n",
    "O = max(A)\n",
    "\n",
    "print('Youngest=',Y,'Oldest=',O)"
   ]
  },
  {
   "cell_type": "code",
   "execution_count": 90,
   "id": "ef491295",
   "metadata": {},
   "outputs": [
    {
     "data": {
      "text/plain": [
       "(885    Malala Yousafzai\n",
       " Name: full_name, dtype: object,\n",
       " 793    Leonid Hurwicz\n",
       " Name: full_name, dtype: object)"
      ]
     },
     "execution_count": 90,
     "metadata": {},
     "output_type": "execute_result"
    }
   ],
   "source": [
    "df.iloc[A[A==Y].index].full_name,df.iloc[A[A==O].index].full_name"
   ]
  },
  {
   "cell_type": "code",
   "execution_count": 92,
   "id": "6211f9bd",
   "metadata": {},
   "outputs": [
    {
     "data": {
      "text/plain": [
       "count    883.000000\n",
       "mean      59.453001\n",
       "std       12.399290\n",
       "min       17.000000\n",
       "25%       50.000000\n",
       "50%       60.000000\n",
       "75%       69.000000\n",
       "max       90.000000\n",
       "dtype: float64"
      ]
     },
     "execution_count": 92,
     "metadata": {},
     "output_type": "execute_result"
    }
   ],
   "source": [
    "A.describe()"
   ]
  },
  {
   "cell_type": "code",
   "execution_count": 97,
   "id": "826578f9",
   "metadata": {},
   "outputs": [
    {
     "data": {
      "text/plain": [
       "(array([ 1.,  0.,  0.,  0.,  0.,  1.,  0.,  0.,  0.,  4.,  8.,  2.,  6.,\n",
       "        11., 10., 16.,  6., 24., 15., 35., 21., 46., 21., 36., 21., 29.,\n",
       "        55., 24., 40., 31., 58., 31., 47., 11., 49., 24., 42., 16., 20.,\n",
       "        34., 11., 21., 11., 14.,  6.,  8.,  7.,  6.,  2.,  2.]),\n",
       " array([17.  , 18.46, 19.92, 21.38, 22.84, 24.3 , 25.76, 27.22, 28.68,\n",
       "        30.14, 31.6 , 33.06, 34.52, 35.98, 37.44, 38.9 , 40.36, 41.82,\n",
       "        43.28, 44.74, 46.2 , 47.66, 49.12, 50.58, 52.04, 53.5 , 54.96,\n",
       "        56.42, 57.88, 59.34, 60.8 , 62.26, 63.72, 65.18, 66.64, 68.1 ,\n",
       "        69.56, 71.02, 72.48, 73.94, 75.4 , 76.86, 78.32, 79.78, 81.24,\n",
       "        82.7 , 84.16, 85.62, 87.08, 88.54, 90.  ]),\n",
       " <BarContainer object of 50 artists>)"
      ]
     },
     "execution_count": 97,
     "metadata": {},
     "output_type": "execute_result"
    },
    {
     "data": {
      "image/png": "[encoded data removed]",
      "text/plain": [
       "<Figure size 432x288 with 1 Axes>"
      ]
     },
     "metadata": {
      "needs_background": "light"
     },
     "output_type": "display_data"
    }
   ],
   "source": [
    "fig = plt.figure()\n",
    "ax = fig.add_axes([0.1,0.1,0.8,0.8])\n",
    "ax.hist(A, bins=50)"
   ]
  },
  {
   "cell_type": "code",
   "execution_count": 103,
   "id": "5eaefcdf",
   "metadata": {},
   "outputs": [],
   "source": [
    "dfc = df.copy()\n",
    "dfc.drop('laureate_id', axis=1,inplace=True)"
   ]
  },
  {
   "cell_type": "code",
   "execution_count": 105,
   "id": "d89eb8d2",
   "metadata": {},
   "outputs": [
    {
     "data": {
      "text/plain": [
       "0      49.0\n",
       "1      62.0\n",
       "2      47.0\n",
       "3      73.0\n",
       "4      79.0\n",
       "       ... \n",
       "906    71.0\n",
       "907    65.0\n",
       "908    82.0\n",
       "909    65.0\n",
       "910    73.0\n",
       "Name: age, Length: 911, dtype: float64"
      ]
     },
     "execution_count": 105,
     "metadata": {},
     "output_type": "execute_result"
    }
   ],
   "source": [
    "dfc['age'] = A\n",
    "dfc.age"
   ]
  }
 ],
 "metadata": {
  "kernelspec": {
   "display_name": "Python 3",
   "language": "python",
   "name": "python3"
  },
  "language_info": {
   "codemirror_mode": {
    "name": "ipython",
    "version": 3
   },
   "file_extension": ".py",
   "mimetype": "text/x-python",
   "name": "python",
   "nbconvert_exporter": "python",
   "pygments_lexer": "ipython3",
   "version": "3.8.8"
  }
 },
 "nbformat": 4,
 "nbformat_minor": 5
}
